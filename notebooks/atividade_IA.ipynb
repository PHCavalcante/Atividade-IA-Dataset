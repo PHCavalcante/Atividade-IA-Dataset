{
 "cells": [
  {
   "cell_type": "code",
   "execution_count": null,
   "id": "09eaf491",
   "metadata": {},
   "outputs": [],
   "source": [
    "import pandas as pd\n",
    "import matplotlib.pyplot as plt\n",
    "from src.data_load import load_dataset\n",
    "from IPython.display import display\n",
    "\n",
    "\n",
    "df = load_dataset()  \n",
    "target_col = \"Conservation Status\"\n",
    "print(\"Shape:\", df.shape)\n",
    "\n",
    "display(df.head())\n",
    "print(\"\\nInfo:\")\n",
    "display(df.info())\n",
    "print(\"\\nDescribe:\")\n",
    "display(df.describe().T)\n",
    "\n",
    "print(\"\\nNulos por coluna:\")\n",
    "print(df.isnull().sum())\n",
    "\n",
    "print(\"\\nLinhas duplicadas:\", df.duplicated().sum())\n"
   ]
  }
 ],
 "metadata": {
  "language_info": {
   "name": "python"
  }
 },
 "nbformat": 4,
 "nbformat_minor": 5
}
